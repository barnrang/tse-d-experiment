{
 "cells": [
  {
   "cell_type": "code",
   "execution_count": 1,
   "metadata": {
    "collapsed": true
   },
   "outputs": [],
   "source": [
    "import numpy as np\n",
    "from scipy.optimize import curve_fit\n",
    "import matplotlib.pyplot as plt\n",
    "import pandas as pd\n",
    "\n",
    "%matplotlib inline"
   ]
  },
  {
   "cell_type": "code",
   "execution_count": 2,
   "metadata": {
    "collapsed": true
   },
   "outputs": [],
   "source": [
    "def photovlight(E, Pmax, Ek, R):\n",
    "    return Pmax * np.tanh(E / Ek) - R"
   ]
  },
  {
   "cell_type": "code",
   "execution_count": 3,
   "metadata": {
    "collapsed": true
   },
   "outputs": [],
   "source": [
    "E = np.array([440,250,135.8,0.4])\n",
    "P = np.array([1.24e-2, 9.86e-3, 5.43e-3, -2.46e-3])"
   ]
  },
  {
   "cell_type": "code",
   "execution_count": 4,
   "metadata": {
    "collapsed": true
   },
   "outputs": [],
   "source": [
    "Epopt, Epcov = curve_fit(photovlight, E, P, p0=(0,200,0))"
   ]
  },
  {
   "cell_type": "code",
   "execution_count": 5,
   "metadata": {},
   "outputs": [
    {
     "data": {
      "text/plain": [
       "(array([1.57554429e-02, 2.40852565e+02, 2.51192402e-03]),\n",
       " array([[ 8.68078887e-08,  1.52278993e-03,  2.34563486e-08],\n",
       "        [ 1.52278993e-03,  8.64734381e+01, -5.74972847e-04],\n",
       "        [ 2.34563486e-08, -5.74972847e-04,  3.03151641e-08]]))"
      ]
     },
     "execution_count": 5,
     "metadata": {},
     "output_type": "execute_result"
    }
   ],
   "source": [
    "Epopt, Epcov"
   ]
  },
  {
   "cell_type": "code",
   "execution_count": 6,
   "metadata": {},
   "outputs": [
    {
     "data": {
      "text/plain": [
       "(array([ 0.01244813,  0.00973146,  0.00553618, -0.00248576]),\n",
       " array([2.31620121e-09, 1.65236375e-08, 1.12731949e-08, 6.63470813e-10]),\n",
       " 3.0776504474521184e-08)"
      ]
     },
     "execution_count": 6,
     "metadata": {},
     "output_type": "execute_result"
    }
   ],
   "source": [
    "pred_P = photovlight(E, *Epopt)\n",
    "error = (pred_P - P) ** 2\n",
    "pred_P, error, np.sum(error)"
   ]
  },
  {
   "cell_type": "code",
   "execution_count": 19,
   "metadata": {
    "scrolled": true
   },
   "outputs": [
    {
     "data": {
      "image/png": "[encoded data removed]",
      "text/plain": [
       "<matplotlib.figure.Figure at 0x20285dcd470>"
      ]
     },
     "metadata": {},
     "output_type": "display_data"
    }
   ],
   "source": [
    "E_plot = np.linspace(-0.2, 450., 1000)\n",
    "P_plot = photovlight(E_plot, *Epopt)\n",
    "\n",
    "plt.scatter(E,P)\n",
    "plt.plot(E_plot, P_plot)\n",
    "plt.ylim((-3e-3, 1.3e-2))\n",
    "plt.xlabel('E (μmol/(m^2s))')\n",
    "plt.ylabel('P')\n",
    "plt.show()"
   ]
  },
  {
   "cell_type": "code",
   "execution_count": null,
   "metadata": {
    "collapsed": true
   },
   "outputs": [],
   "source": []
  },
  {
   "cell_type": "code",
   "execution_count": 8,
   "metadata": {
    "collapsed": true
   },
   "outputs": [],
   "source": [
    "G = [0.001431398231, \n",
    "     0.001324916993,\n",
    "     0.0002226796472,\n",
    "     0.000214260976]"
   ]
  },
  {
   "cell_type": "code",
   "execution_count": 9,
   "metadata": {
    "collapsed": true
   },
   "outputs": [],
   "source": [
    "def calvivphoto(E, Gmax, Ek, D):\n",
    "    return Gmax * np.tanh(E/Ek) - D"
   ]
  },
  {
   "cell_type": "code",
   "execution_count": 10,
   "metadata": {
    "collapsed": true
   },
   "outputs": [],
   "source": [
    "Gpopt, pcov = curve_fit(calvivphoto, E, G, p0=(0,200,0))"
   ]
  },
  {
   "cell_type": "code",
   "execution_count": 11,
   "metadata": {},
   "outputs": [
    {
     "data": {
      "text/plain": [
       "array([ 2.01640615e-03,  5.05582521e+02, -8.12819377e-05])"
      ]
     },
     "execution_count": 11,
     "metadata": {},
     "output_type": "execute_result"
    }
   ],
   "source": [
    "Gpopt"
   ]
  },
  {
   "cell_type": "code",
   "execution_count": 16,
   "metadata": {},
   "outputs": [
    {
     "data": {
      "image/png": "[encoded data removed]",
      "text/plain": [
       "<matplotlib.figure.Figure at 0x20281ccbe48>"
      ]
     },
     "metadata": {},
     "output_type": "display_data"
    }
   ],
   "source": [
    "E_plot = np.linspace(-0.2, 450., 1000)\n",
    "G_plot = calvivphoto(E_plot, *Gpopt)\n",
    "\n",
    "plt.scatter(E,G)\n",
    "plt.plot(E_plot, G_plot)\n",
    "plt.ylim((0, 0.0015))\n",
    "plt.xlabel('E')\n",
    "plt.ylabel('G')\n",
    "plt.show()"
   ]
  },
  {
   "cell_type": "code",
   "execution_count": 14,
   "metadata": {},
   "outputs": [
    {
     "data": {
      "text/plain": [
       "(array([1.49582718e-03, 1.00432051e-03, 6.10230918e-04, 8.28772505e-05]),\n",
       " array([4.15108911e-09, 1.02782105e-07, 1.50195987e-07, 1.72616833e-08]),\n",
       " 2.7439086437679776e-07)"
      ]
     },
     "execution_count": 14,
     "metadata": {},
     "output_type": "execute_result"
    }
   ],
   "source": [
    "pred_G = photovlight(E, *Gpopt)\n",
    "error = (pred_G - G) ** 2\n",
    "pred_G, error, np.sum(error)"
   ]
  },
  {
   "cell_type": "markdown",
   "metadata": {
    "collapsed": true
   },
   "source": [
    "# Q 4"
   ]
  },
  {
   "cell_type": "code",
   "execution_count": 54,
   "metadata": {
    "collapsed": true
   },
   "outputs": [],
   "source": [
    "S = 1353\n",
    "phi = 20 * (2 * np.pi / 360)\n",
    "delta = 23.44 * np.cos((172 - 71) * 2 * np.pi / 365) * (2 * np.pi / 360)\n",
    "alpha = 0.07\n",
    "lmbda = 0.12\n",
    "h = 0.5\n",
    "e = 1783\n",
    "cover = 0.3\n",
    "\n",
    "def max0(x):\n",
    "    return (x > 0) * x \n",
    "\n",
    "def Q(cosz):\n",
    "    return max0(S * cosz ** 2 / ((cosz + 2.7)*e*10**-5+1.085*cosz+0.1))\n",
    "\n",
    "def cosz(HA):\n",
    "    return np.sin(phi) * np.sin(delta) + np.cos(phi) * np.cos(delta) * np.cos(HA)\n",
    "\n",
    "def HA(t):\n",
    "    return (12 - t) * np.pi / 12.\n",
    "\n",
    "def Es(Q):\n",
    "    return 2.1 * Q\n",
    "\n",
    "def Eb(Es):\n",
    "    return Es * (1 - alpha) * np.exp(-lmbda * h)\n",
    "\n",
    "# Eb input by t (time)\n",
    "def Eb_a(t):\n",
    "    HA_t = HA(t)\n",
    "    cosz_t = cosz(HA_t)\n",
    "    Q_t = Q(cosz_t)\n",
    "    Es_t = Es(Q_t)\n",
    "    return Eb(Es_t)"
   ]
  },
  {
   "cell_type": "code",
   "execution_count": 90,
   "metadata": {},
   "outputs": [],
   "source": [
    "T_plot = np.linspace(0, 24, 1000)\n",
    "Eb_plot = Eb_a(T_plot)"
   ]
  },
  {
   "cell_type": "code",
   "execution_count": 91,
   "metadata": {},
   "outputs": [
    {
     "data": {
      "text/plain": [
       "[<matplotlib.lines.Line2D at 0x20287dabd68>]"
      ]
     },
     "execution_count": 91,
     "metadata": {},
     "output_type": "execute_result"
    },
    {
     "data": {
      "image/png": "[encoded data removed]",
      "text/plain": [
       "<matplotlib.figure.Figure at 0x20287dabc88>"
      ]
     },
     "metadata": {},
     "output_type": "display_data"
    }
   ],
   "source": [
    "plt.ylim((0, 2000))\n",
    "plt.plot(T_plot, Eb_plot)"
   ]
  },
  {
   "cell_type": "code",
   "execution_count": 92,
   "metadata": {
    "collapsed": true
   },
   "outputs": [],
   "source": [
    "import scipy.integrate as integrate"
   ]
  },
  {
   "cell_type": "code",
   "execution_count": 93,
   "metadata": {},
   "outputs": [
    {
     "data": {
      "text/plain": [
       "<function scipy.integrate.quadrature.simps>"
      ]
     },
     "execution_count": 93,
     "metadata": {},
     "output_type": "execute_result"
    }
   ],
   "source": [
    "integrate.simps"
   ]
  },
  {
   "cell_type": "code",
   "execution_count": 94,
   "metadata": {
    "collapsed": true
   },
   "outputs": [],
   "source": [
    "def G4(t):\n",
    "    return calvivphoto(Eb_a(t), *Gpopt)"
   ]
  },
  {
   "cell_type": "code",
   "execution_count": 95,
   "metadata": {},
   "outputs": [
    {
     "data": {
      "text/plain": [
       "[<matplotlib.lines.Line2D at 0x20287e695f8>]"
      ]
     },
     "execution_count": 95,
     "metadata": {},
     "output_type": "execute_result"
    },
    {
     "data": {
      "image/png": "[encoded data removed]",
      "text/plain": [
       "<matplotlib.figure.Figure at 0x20287dddd30>"
      ]
     },
     "metadata": {},
     "output_type": "display_data"
    }
   ],
   "source": [
    "G4_plot = G4(T_plot)\n",
    "plt.plot(T_plot, G4_plot)"
   ]
  },
  {
   "cell_type": "code",
   "execution_count": 96,
   "metadata": {},
   "outputs": [
    {
     "data": {
      "text/plain": [
       "0.006833927686828194"
      ]
     },
     "execution_count": 96,
     "metadata": {},
     "output_type": "execute_result"
    }
   ],
   "source": [
    "integrate.simps(G4_plot, T_plot) * cover"
   ]
  },
  {
   "cell_type": "code",
   "execution_count": null,
   "metadata": {
    "collapsed": true
   },
   "outputs": [],
   "source": []
  }
 ],
 "metadata": {
  "kernelspec": {
   "display_name": "Python [conda env:chatbot]",
   "language": "python",
   "name": "conda-env-chatbot-py"
  },
  "language_info": {
   "codemirror_mode": {
    "name": "ipython",
    "version": 3
   },
   "file_extension": ".py",
   "mimetype": "text/x-python",
   "name": "python",
   "nbconvert_exporter": "python",
   "pygments_lexer": "ipython3",
   "version": "3.5.3"
  }
 },
 "nbformat": 4,
 "nbformat_minor": 2
}
